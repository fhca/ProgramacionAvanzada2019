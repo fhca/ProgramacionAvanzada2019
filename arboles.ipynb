{
 "cells": [
  {
   "cell_type": "markdown",
   "metadata": {},
   "source": [
    "# Árboles Roji-Negros"
   ]
  },
  {
   "cell_type": "code",
   "execution_count": 10,
   "metadata": {},
   "outputs": [
    {
     "name": "stdout",
     "output_type": "stream",
     "text": [
      "info:Paty, padre:None, izq:None, der:None, color:n\n",
      "info:Max, padre:None, izq:None, der:None, color:n\n"
     ]
    }
   ],
   "source": [
    "class Nodo:\n",
    "    def __init__(self, info):\n",
    "        self.padre = None\n",
    "        self.izq = None\n",
    "        self.der = None\n",
    "        self.color = 'n'  # o 'r'\n",
    "        self.info = info\n",
    "\n",
    "    def __repr__(self):\n",
    "        \"muestra el nodo\"\n",
    "        return f\"info:{self.info}, padre:{self.padre}, izq:{self.izq}, der:{self.der}, color:{self.color}\"\n",
    "\n",
    "print(Nodo(\"Paty\"))\n",
    "print(Nodo(\"Max\"))"
   ]
  },
  {
   "cell_type": "code",
   "execution_count": 12,
   "metadata": {},
   "outputs": [
    {
     "data": {
      "text/plain": [
       "info:Paty, padre:None, izq:None, der:None, color:n"
      ]
     },
     "execution_count": 12,
     "metadata": {},
     "output_type": "execute_result"
    }
   ],
   "source": [
    "class Arbol:\n",
    "    def __init__(self):\n",
    "        self.a = None\n",
    "        \n",
    "    def añade(self, info):\n",
    "        if self.a is None:\n",
    "            self.a = Nodo(info)\n",
    "    \n",
    "    def __repr__(self):\n",
    "        \"muestra arbol\"\n",
    "        return str(self.a)\n",
    "    \n",
    "t = Arbol()\n",
    "t.añade(\"Paty\")\n",
    "t"
   ]
  },
  {
   "cell_type": "code",
   "execution_count": null,
   "metadata": {},
   "outputs": [],
   "source": []
  }
 ],
 "metadata": {
  "kernelspec": {
   "display_name": "Python 3",
   "language": "python",
   "name": "python3"
  },
  "language_info": {
   "codemirror_mode": {
    "name": "ipython",
    "version": 3
   },
   "file_extension": ".py",
   "mimetype": "text/x-python",
   "name": "python",
   "nbconvert_exporter": "python",
   "pygments_lexer": "ipython3",
   "version": "3.7.3"
  }
 },
 "nbformat": 4,
 "nbformat_minor": 2
}
