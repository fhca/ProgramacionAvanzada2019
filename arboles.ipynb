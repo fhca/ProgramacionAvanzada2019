{
 "cells": [
  {
   "cell_type": "markdown",
   "metadata": {},
   "source": [
    "# Árboles Roji-Negros"
   ]
  },
  {
   "cell_type": "code",
   "execution_count": 85,
   "metadata": {},
   "outputs": [
    {
     "name": "stdout",
     "output_type": "stream",
     "text": [
      "(()Paty())\n"
     ]
    }
   ],
   "source": [
    "class Nodo:\n",
    "    def __init__(self, info):\n",
    "        self.padre = None\n",
    "        self.izq = None\n",
    "        self.der = None\n",
    "        self.color = 'n'  # o 'r'\n",
    "        self.info = info\n",
    "\n",
    "    def __repr__(self):\n",
    "        \"muestra el nodo\"\n",
    "        res = \"(\"\n",
    "        if self.izq:\n",
    "            res += \"\" + self.izq.__repr__() + \"\"\n",
    "        else:\n",
    "            res += \"()\"\n",
    "        res += \"\" + self.info + \"\"\n",
    "        if self.der:\n",
    "            res += \"\" + self.der.__repr__() + \"\"\n",
    "        else:\n",
    "            res += \"()\"\n",
    "        res += \")\"\n",
    "        return res\n",
    "\n",
    "print(Nodo(\"Paty\"))"
   ]
  },
  {
   "cell_type": "code",
   "execution_count": 86,
   "metadata": {},
   "outputs": [
    {
     "data": {
      "text/plain": [
       "(((((()C())G(()I()))O(()O()))P(()T()))U(()U(()X())))"
      ]
     },
     "execution_count": 86,
     "metadata": {},
     "output_type": "execute_result"
    }
   ],
   "source": [
    "class Arbol:\n",
    "    def __init__(self):\n",
    "        self.a = None\n",
    "        \n",
    "    def añade1(self, info, nodo=None):\n",
    "        if nodo is None:\n",
    "            nodo = Nodo(info)\n",
    "            if self.a is None:  # arbol nuevo\n",
    "                self.a = nodo\n",
    "        else:\n",
    "            if info < nodo.info:\n",
    "                if nodo.izq is None:\n",
    "                    nodo.izq=Nodo(info)\n",
    "                    nodo.izq.padre = nodo\n",
    "                else:\n",
    "                    self.añade1(info, nodo.izq)\n",
    "            else:\n",
    "                if nodo.der is None:\n",
    "                    nodo.der=Nodo(info)\n",
    "                    nodo.der.padre=nodo\n",
    "                else:\n",
    "                    self.añade1(info, nodo.der)\n",
    "                    \n",
    "    def añade(self, info):\n",
    "        self.añade1(info, self.a)\n",
    "    \n",
    "    \n",
    "    def __repr__(self):\n",
    "        \"muestra arbol\"\n",
    "        return self.a.__repr__()\n",
    "    \n",
    "t = Arbol()\n",
    "t.añade(\"U\")\n",
    "t.añade(\"P\")\n",
    "t.añade(\"O\")\n",
    "t.añade(\"O\")\n",
    "t.añade(\"G\")\n",
    "t.añade(\"U\")\n",
    "t.añade(\"T\")\n",
    "t.añade(\"X\")\n",
    "t.añade(\"I\")\n",
    "t.añade(\"C\")\n",
    "t"
   ]
  },
  {
   "cell_type": "code",
   "execution_count": null,
   "metadata": {},
   "outputs": [],
   "source": []
  }
 ],
 "metadata": {
  "kernelspec": {
   "display_name": "Python 3",
   "language": "python",
   "name": "python3"
  },
  "language_info": {
   "codemirror_mode": {
    "name": "ipython",
    "version": 3
   },
   "file_extension": ".py",
   "mimetype": "text/x-python",
   "name": "python",
   "nbconvert_exporter": "python",
   "pygments_lexer": "ipython3",
   "version": "3.7.3"
  }
 },
 "nbformat": 4,
 "nbformat_minor": 2
}
