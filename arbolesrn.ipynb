{
 "cells": [
  {
   "cell_type": "markdown",
   "metadata": {},
   "source": [
    "# Árboles Roji-Negros (parte 2)"
   ]
  },
  {
   "cell_type": "code",
   "execution_count": 1,
   "metadata": {},
   "outputs": [
    {
     "name": "stdout",
     "output_type": "stream",
     "text": [
      "(()Paty())\n"
     ]
    }
   ],
   "source": [
    "class Nodo:\n",
    "    def __init__(self, info, default=None):\n",
    "        self.padre = default\n",
    "        self.izq = default\n",
    "        self.der = default\n",
    "        self.color = 'n'  # o 'r'\n",
    "        self.info = info\n",
    "        self.nil = default\n",
    "\n",
    "    def __repr__(self):\n",
    "        \"muestra el nodo\"\n",
    "        res = \"(\"\n",
    "        if self.izq != self.nil:\n",
    "            res += \"\" + self.izq.__repr__() + \"\"\n",
    "        else:\n",
    "            res += \"()\"\n",
    "        res += \"\" + self.info + \"\"\n",
    "        if self.der != self.nil:\n",
    "            res += \"\" + self.der.__repr__() + \"\"\n",
    "        else:\n",
    "            res += \"()\"\n",
    "        res += \")\"\n",
    "        return res\n",
    "\n",
    "print(Nodo(\"Paty\"))"
   ]
  },
  {
   "cell_type": "code",
   "execution_count": 2,
   "metadata": {},
   "outputs": [
    {
     "data": {
      "text/plain": [
       "(((((()C())G(()I()))O(()O()))P(()T()))U(()U(()X())))"
      ]
     },
     "execution_count": 2,
     "metadata": {},
     "output_type": "execute_result"
    }
   ],
   "source": [
    "class Arbol:\n",
    "    def __init__(self):\n",
    "        self.nil = Nodo('NADA') # en vez de None, usamos este que si es un Nodo\n",
    "        self.raiz = self.nil\n",
    "        self.raiz.padre = self.nil\n",
    "        self.raiz.izq = self.raiz.der = self.nil\n",
    "        \n",
    "    def añade1(self, info, nodo):\n",
    "        if nodo == self.nil:\n",
    "            nodo = Nodo(info, self.nil)\n",
    "            if self.raiz == self.nil:  # arbol nuevo\n",
    "                self.raiz = nodo\n",
    "        else:\n",
    "            if info < nodo.info:\n",
    "                if nodo.izq == self.nil:\n",
    "                    nodo.izq = Nodo(info, self.nil)\n",
    "                    nodo.izq.padre = nodo\n",
    "                else:\n",
    "                    self.añade1(info, nodo.izq)\n",
    "            else:\n",
    "                if nodo.der == self.nil:\n",
    "                    nodo.der=Nodo(info, self.nil)\n",
    "                    nodo.der.padre=nodo\n",
    "                else:\n",
    "                    self.añade1(info, nodo.der)\n",
    "                    \n",
    "    def añade(self, info):\n",
    "        self.añade1(info, self.raiz)\n",
    "    \n",
    "    \n",
    "    def __repr__(self):\n",
    "        \"muestra arbol\"\n",
    "        return self.raiz.__repr__()\n",
    "    \n",
    "t = Arbol()\n",
    "t.añade(\"U\")\n",
    "t.añade(\"P\")\n",
    "t.añade(\"O\")\n",
    "t.añade(\"O\")\n",
    "t.añade(\"G\")\n",
    "t.añade(\"U\")\n",
    "t.añade(\"T\")\n",
    "t.añade(\"X\")\n",
    "t.añade(\"I\")\n",
    "t.añade(\"C\")\n",
    "t"
   ]
  },
  {
   "cell_type": "code",
   "execution_count": 11,
   "metadata": {},
   "outputs": [],
   "source": [
    "def left_rotate(T, x):\n",
    "    y = x.der #1\n",
    "    x.der = y.izq #2\n",
    "    if y.izq != T.nil: #3\n",
    "        y.izq.padre = x #4\n",
    "    y.padre = x.padre #5\n",
    "    if x.padre == T.nil: #6\n",
    "        T.raiz = y #7\n",
    "    elif x == x.padre.izq: #8\n",
    "        x.padre.izq = y #9\n",
    "    else:\n",
    "        x.padre.der = y #10\n",
    "    y.izq = x #11\n",
    "    x.padre = y #12\n",
    "    \n",
    "def right_rotate(T, y):\n",
    "    x = y.izq #1\n",
    "    y.izq = x.der #2\n",
    "    if x.der != T.nil: #3\n",
    "        x.der.padre = y #4\n",
    "    x.padre = y.padre #5\n",
    "    if y.padre == T.nil: #6\n",
    "        T.raiz = x #7\n",
    "    elif y == y.padre.der: #8\n",
    "        y.padre.der = x #9\n",
    "    else:\n",
    "        y.padre.izq = x #10\n",
    "    x.der = y #11\n",
    "    y.padre = x #12 "
   ]
  },
  {
   "cell_type": "code",
   "execution_count": 17,
   "metadata": {},
   "outputs": [
    {
     "data": {
      "text/plain": [
       "(((((()C())G(()I()))O(()O()))P(()T()))U(()U(()X())))"
      ]
     },
     "execution_count": 17,
     "metadata": {},
     "output_type": "execute_result"
    }
   ],
   "source": [
    "t"
   ]
  },
  {
   "cell_type": "code",
   "execution_count": 18,
   "metadata": {},
   "outputs": [
    {
     "data": {
      "text/plain": [
       "((((()C())G(()I()))O(()O()))P((()T())U(()U(()X()))))"
      ]
     },
     "execution_count": 18,
     "metadata": {},
     "output_type": "execute_result"
    }
   ],
   "source": [
    "right_rotate(t, t.raiz)\n",
    "t"
   ]
  },
  {
   "cell_type": "code",
   "execution_count": 16,
   "metadata": {},
   "outputs": [
    {
     "data": {
      "text/plain": [
       "(((((()C())G(()I()))O(()O()))P(()T()))U(()U(()X())))"
      ]
     },
     "execution_count": 16,
     "metadata": {},
     "output_type": "execute_result"
    }
   ],
   "source": [
    "left_rotate(t, t.raiz)\n",
    "t"
   ]
  },
  {
   "cell_type": "code",
   "execution_count": 23,
   "metadata": {},
   "outputs": [],
   "source": [
    "def rb_insert(T, info):\n",
    "    z = Nodo(info, T.nil)\n",
    "    y = T.nil #1\n",
    "    x = T.raiz #2\n",
    "    while x != T.nil: #3\n",
    "        y = x #4\n",
    "        if z.info < x.info: #5\n",
    "            x = x.izq #6\n",
    "        else:\n",
    "            x = x.der #7\n",
    "    z.padre = y #8\n",
    "    if y == T.nil: #9\n",
    "        T.raiz = z #10\n",
    "    elif z.info < y.info: #11\n",
    "        y.izq = z #12\n",
    "    else:\n",
    "        y.der = z #13\n",
    "    z.izq = T.nil #14\n",
    "    z.der = T.nil #15\n",
    "    z.color = 'r' #16\n",
    "    rb_insert_fixup(T, z) #17\n",
    "\n",
    "def rb_insert_fixup(T, z):\n",
    "    while z.padre.color == 'r': #1\n",
    "        if z.padre == z.padre.padre.izq: #2\n",
    "            y = z.padre.padre.der #3\n",
    "            if y.color == 'r': #4\n",
    "                z.padre.color = 'n' #5\n",
    "                y.color = 'n' #6\n",
    "                z.padre.padre.color = 'r' #7\n",
    "                z = z.padre.padre #8\n",
    "            else:\n",
    "                if z == z.padre.der: #9\n",
    "                    z = z.padre #10\n",
    "                    left_rotate(T, z) #11\n",
    "                z.padre.color = 'n' #12\n",
    "                z.padre.padre.color = 'r' #13\n",
    "                right_rotate(T, z.padre.padre) #14\n",
    "        else: #15\n",
    "            y = z.padre.padre.izq #3'\n",
    "            if y.color == 'r': #4'\n",
    "                z.padre.color = 'n' #5'\n",
    "                y.color = 'n' #6'\n",
    "                z.padre.padre.color = 'r' #7'\n",
    "                z = z.padre.padre #8'\n",
    "            else:\n",
    "                if z == z.padre.izq: #9'\n",
    "                    z = z.padre #10'\n",
    "                    left_rotate(T, z) #11'\n",
    "                z.padre.color = 'n' #12'\n",
    "                z.padre.padre.color = 'r' #13'\n",
    "                right_rotate(T, z.padre.padre) #14'\n",
    "    T.raiz.color = 'n' #16 "
   ]
  },
  {
   "cell_type": "code",
   "execution_count": 24,
   "metadata": {},
   "outputs": [
    {
     "data": {
      "text/plain": [
       "((((()C())G(()I()))O(()O()))P((()T())U(()U(()X()))))"
      ]
     },
     "execution_count": 24,
     "metadata": {},
     "output_type": "execute_result"
    }
   ],
   "source": [
    "T = Arbol()\n",
    "rb_insert(T, \"U\")\n",
    "rb_insert(T, \"P\")\n",
    "rb_insert(T, \"O\")\n",
    "rb_insert(T, \"O\")\n",
    "rb_insert(T, \"G\")\n",
    "rb_insert(T, \"U\")\n",
    "rb_insert(T, \"T\")\n",
    "rb_insert(T, \"X\")\n",
    "rb_insert(T, \"I\")\n",
    "rb_insert(T, \"C\")\n",
    "T"
   ]
  },
  {
   "cell_type": "code",
   "execution_count": null,
   "metadata": {},
   "outputs": [],
   "source": []
  }
 ],
 "metadata": {
  "kernelspec": {
   "display_name": "Python 3",
   "language": "python",
   "name": "python3"
  },
  "language_info": {
   "codemirror_mode": {
    "name": "ipython",
    "version": 3
   },
   "file_extension": ".py",
   "mimetype": "text/x-python",
   "name": "python",
   "nbconvert_exporter": "python",
   "pygments_lexer": "ipython3",
   "version": "3.7.3"
  }
 },
 "nbformat": 4,
 "nbformat_minor": 2
}
